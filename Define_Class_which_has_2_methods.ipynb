{
  "nbformat": 4,
  "nbformat_minor": 0,
  "metadata": {
    "colab": {
      "provenance": [],
      "authorship_tag": "ABX9TyONP51OkSUmBKYNKYIDOL76",
      "include_colab_link": true
    },
    "kernelspec": {
      "name": "python3",
      "display_name": "Python 3"
    },
    "language_info": {
      "name": "python"
    }
  },
  "cells": [
    {
      "cell_type": "markdown",
      "metadata": {
        "id": "view-in-github",
        "colab_type": "text"
      },
      "source": [
        "<a href=\"https://colab.research.google.com/github/MuhammadHammad02/Python-Projects-Basic-to-Advance/blob/main/Define_Class_which_has_2_methods.ipynb\" target=\"_parent\"><img src=\"https://colab.research.google.com/assets/colab-badge.svg\" alt=\"Open In Colab\"/></a>"
      ]
    },
    {
      "cell_type": "markdown",
      "source": [],
      "metadata": {
        "id": "jWxa5bCW0DZo"
      }
    },
    {
      "cell_type": "markdown",
      "source": [
        "Define a class which has at least two methods:\n",
        "getString: to get a string from console input\n",
        "printString: to print the string in upper case.\n",
        "Also please include simple test function to test the class methods.\n"
      ],
      "metadata": {
        "id": "WdqfPS6r0P7X"
      }
    },
    {
      "cell_type": "code",
      "source": [
        "class Define_class():\n",
        "  def __init__(self):\n",
        "    self.s = \"\"\n",
        "\n",
        "  def getString(self):\n",
        "    self.s = input()\n",
        "\n",
        "  def prtintString(self):\n",
        "    print(self.s.upper())\n",
        "\n",
        "strobj = Define_class()\n",
        "strobj.getString()\n",
        "strobj.prtintString()"
      ],
      "metadata": {
        "colab": {
          "base_uri": "https://localhost:8080/"
        },
        "id": "L1QNaskI0RAA",
        "outputId": "3d1411a7-d2b3-4174-d61a-9f79596592b4"
      },
      "execution_count": 8,
      "outputs": [
        {
          "output_type": "stream",
          "name": "stdout",
          "text": [
            "hello world\n",
            "HELLO WORLD\n"
          ]
        }
      ]
    }
  ]
}