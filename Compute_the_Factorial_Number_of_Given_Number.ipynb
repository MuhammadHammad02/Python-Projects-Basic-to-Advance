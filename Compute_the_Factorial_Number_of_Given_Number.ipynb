{
  "nbformat": 4,
  "nbformat_minor": 0,
  "metadata": {
    "colab": {
      "provenance": [],
      "authorship_tag": "ABX9TyM7FHg+jJCUvZILWsq6S4Ky",
      "include_colab_link": true
    },
    "kernelspec": {
      "name": "python3",
      "display_name": "Python 3"
    },
    "language_info": {
      "name": "python"
    }
  },
  "cells": [
    {
      "cell_type": "markdown",
      "metadata": {
        "id": "view-in-github",
        "colab_type": "text"
      },
      "source": [
        "<a href=\"https://colab.research.google.com/github/MuhammadHammad02/Python-Projects-Basic-to-Advance/blob/main/Compute_the_Factorial_Number_of_Given_Number.ipynb\" target=\"_parent\"><img src=\"https://colab.research.google.com/assets/colab-badge.svg\" alt=\"Open In Colab\"/></a>"
      ]
    },
    {
      "cell_type": "markdown",
      "source": [
        "Write a program which can compute the factorial of a given numbers.\n",
        "The results should be printed in a comma-separated sequence on a single line.\n",
        "Suppose the following input is supplied to the program:\n",
        "8\n",
        "Then, the output should be:\n",
        "40320"
      ],
      "metadata": {
        "id": "rRKCFoM70nn_"
      }
    },
    {
      "cell_type": "code",
      "source": [
        "def fact(x):\n",
        "\n",
        "  if x == 0:\n",
        "\n",
        "    return 1\n",
        "\n",
        "  return x * fact(x - 1)\n",
        "\n",
        "x = int(input(\"Kindly Enter your Number: \"))\n",
        "\n",
        "print(fact(x))\n"
      ],
      "metadata": {
        "colab": {
          "base_uri": "https://localhost:8080/"
        },
        "id": "zS167Eot0ous",
        "outputId": "60ac53b8-d43a-419c-e3e0-7e16efd9d1bd"
      },
      "execution_count": 4,
      "outputs": [
        {
          "output_type": "stream",
          "name": "stdout",
          "text": [
            "Kindly Enter your Number: 8\n",
            "40320\n"
          ]
        }
      ]
    }
  ]
}