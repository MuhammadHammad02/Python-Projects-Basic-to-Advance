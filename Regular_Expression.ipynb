{
  "nbformat": 4,
  "nbformat_minor": 0,
  "metadata": {
    "colab": {
      "provenance": [],
      "authorship_tag": "ABX9TyPMVwgUy+qfUysxCXf6tygu",
      "include_colab_link": true
    },
    "kernelspec": {
      "name": "python3",
      "display_name": "Python 3"
    },
    "language_info": {
      "name": "python"
    }
  },
  "cells": [
    {
      "cell_type": "markdown",
      "metadata": {
        "id": "view-in-github",
        "colab_type": "text"
      },
      "source": [
        "<a href=\"https://colab.research.google.com/github/MuhammadHammad02/Python-Projects-Basic-to-Advance/blob/main/Regular_Expression.ipynb\" target=\"_parent\"><img src=\"https://colab.research.google.com/assets/colab-badge.svg\" alt=\"Open In Colab\"/></a>"
      ]
    },
    {
      "cell_type": "code",
      "execution_count": 1,
      "metadata": {
        "id": "KcssMO8eivXY"
      },
      "outputs": [],
      "source": [
        "import re"
      ]
    },
    {
      "cell_type": "code",
      "source": [
        "phoneNumRegex = re.compile(r'\\d\\d\\d-\\d\\d\\d-\\d\\d\\d\\d')\n",
        "\n",
        "mo = phoneNumRegex.search('My phone number is 415-555-4242.')\n",
        "\n",
        "print('Phone number found: ' + mo.group())"
      ],
      "metadata": {
        "colab": {
          "base_uri": "https://localhost:8080/"
        },
        "id": "zX0LW8pdi-JV",
        "outputId": "f448ae28-2db2-49f2-9342-1c19b050eded"
      },
      "execution_count": 2,
      "outputs": [
        {
          "output_type": "stream",
          "name": "stdout",
          "text": [
            "Phone number found: 415-555-4242\n"
          ]
        }
      ]
    },
    {
      "cell_type": "code",
      "source": [
        "phoneNumRegex = re.compile(r'(\\d\\d\\d)-(\\d\\d\\d-\\d\\d\\d\\d)')\n",
        "mo = phoneNumRegex.search('My phone number is 415-555-4242.')\n",
        "print(mo.group(1))\n",
        "print(mo.group(2))\n",
        "print(mo.group(0))\n",
        "print(mo.group())"
      ],
      "metadata": {
        "colab": {
          "base_uri": "https://localhost:8080/"
        },
        "id": "4BtF9z6Ri-NL",
        "outputId": "bda6436c-c2ac-404f-9ec7-cd8635da4f7f"
      },
      "execution_count": 8,
      "outputs": [
        {
          "output_type": "stream",
          "name": "stdout",
          "text": [
            "415\n",
            "555-4242\n",
            "415-555-4242\n",
            "415-555-4242\n"
          ]
        }
      ]
    },
    {
      "cell_type": "code",
      "source": [
        "heroRegex = re.compile(r'Batman |Tina Fey')\n",
        "mo1 = heroRegex.search('Batman and Tina Fey')\n",
        "\n",
        "mo1.group()\n"
      ],
      "metadata": {
        "colab": {
          "base_uri": "https://localhost:8080/",
          "height": 36
        },
        "id": "9DSdrcfXmQEi",
        "outputId": "82267e84-0e0c-4259-f795-faf7c832dc01"
      },
      "execution_count": 10,
      "outputs": [
        {
          "output_type": "execute_result",
          "data": {
            "text/plain": [
              "'Batman '"
            ],
            "application/vnd.google.colaboratory.intrinsic+json": {
              "type": "string"
            }
          },
          "metadata": {},
          "execution_count": 10
        }
      ]
    },
    {
      "cell_type": "code",
      "source": [
        "mo1 = heroRegex.search('Tina Fey and Batman')\n",
        "mo1.group()"
      ],
      "metadata": {
        "colab": {
          "base_uri": "https://localhost:8080/",
          "height": 36
        },
        "id": "ih1lOTpvm-WI",
        "outputId": "7a9e7fa2-9f53-41c2-d52e-a544d049fcd1"
      },
      "execution_count": 11,
      "outputs": [
        {
          "output_type": "execute_result",
          "data": {
            "text/plain": [
              "'Tina Fey'"
            ],
            "application/vnd.google.colaboratory.intrinsic+json": {
              "type": "string"
            }
          },
          "metadata": {},
          "execution_count": 11
        }
      ]
    },
    {
      "cell_type": "code",
      "source": [
        "batRegex = re.compile(r'Bat(man | mobile | copter | bat)')\n",
        "mo = batRegex.search('Batman lost a wheel')\n",
        "mo.group()"
      ],
      "metadata": {
        "colab": {
          "base_uri": "https://localhost:8080/",
          "height": 36
        },
        "id": "sZc5-klQpZwO",
        "outputId": "9309f090-202a-4b6e-ecf5-0abaaed2aab6"
      },
      "execution_count": 12,
      "outputs": [
        {
          "output_type": "execute_result",
          "data": {
            "text/plain": [
              "'Batman '"
            ],
            "application/vnd.google.colaboratory.intrinsic+json": {
              "type": "string"
            }
          },
          "metadata": {},
          "execution_count": 12
        }
      ]
    },
    {
      "cell_type": "code",
      "source": [
        "batRegex_1 = re.compile(r'Bat(wo)?man')\n",
        "mo2 = batRegex_1.search('The Adventure of Batman')\n",
        "mo2.group()"
      ],
      "metadata": {
        "colab": {
          "base_uri": "https://localhost:8080/",
          "height": 36
        },
        "id": "xaJTczVGqCt9",
        "outputId": "20253107-d0a5-408c-a9c9-d1aa30fd2e19"
      },
      "execution_count": 13,
      "outputs": [
        {
          "output_type": "execute_result",
          "data": {
            "text/plain": [
              "'Batman'"
            ],
            "application/vnd.google.colaboratory.intrinsic+json": {
              "type": "string"
            }
          },
          "metadata": {},
          "execution_count": 13
        }
      ]
    },
    {
      "cell_type": "code",
      "source": [
        "batRegex_2 = re.compile(r'Bat(wo)?man')\n",
        "mo3 = batRegex_2.search('The Advanture of Batwoman')\n",
        "mo3.group()"
      ],
      "metadata": {
        "colab": {
          "base_uri": "https://localhost:8080/",
          "height": 36
        },
        "id": "no3i4sBrrE-A",
        "outputId": "bab489e5-856d-4d82-9d31-47236e75522b"
      },
      "execution_count": 15,
      "outputs": [
        {
          "output_type": "execute_result",
          "data": {
            "text/plain": [
              "'Batwoman'"
            ],
            "application/vnd.google.colaboratory.intrinsic+json": {
              "type": "string"
            }
          },
          "metadata": {},
          "execution_count": 15
        }
      ]
    },
    {
      "cell_type": "code",
      "source": [
        "batRegex_4 = re.compile(r'Bat(wo)*man')\n",
        "mo = batRegex_4.search('The Advanture of Batman')\n",
        "mo.group()"
      ],
      "metadata": {
        "colab": {
          "base_uri": "https://localhost:8080/",
          "height": 36
        },
        "id": "iUYgkXNQrn-E",
        "outputId": "bcaffc5a-6471-49e9-fbe1-ee045c0c9eac"
      },
      "execution_count": 16,
      "outputs": [
        {
          "output_type": "execute_result",
          "data": {
            "text/plain": [
              "'Batman'"
            ],
            "application/vnd.google.colaboratory.intrinsic+json": {
              "type": "string"
            }
          },
          "metadata": {},
          "execution_count": 16
        }
      ]
    },
    {
      "cell_type": "code",
      "source": [
        "mo1 = batRegex_4.search('The Advanture of Batwowowowowowowoman')\n",
        "mo1.group()"
      ],
      "metadata": {
        "colab": {
          "base_uri": "https://localhost:8080/",
          "height": 36
        },
        "id": "pVO8TBqCsYmI",
        "outputId": "ad993c0b-bd36-4735-ded9-ff5dcae0428c"
      },
      "execution_count": 17,
      "outputs": [
        {
          "output_type": "execute_result",
          "data": {
            "text/plain": [
              "'Batwowowowowowowoman'"
            ],
            "application/vnd.google.colaboratory.intrinsic+json": {
              "type": "string"
            }
          },
          "metadata": {},
          "execution_count": 17
        }
      ]
    },
    {
      "cell_type": "code",
      "source": [
        "batRegex_5 = re.compile(r'Bat(wo)+man')\n",
        "mo = batRegex_5.search('The Advanture of Batwowowowowowowoman')\n",
        "mo.group()"
      ],
      "metadata": {
        "colab": {
          "base_uri": "https://localhost:8080/",
          "height": 36
        },
        "id": "-fNdgE9EswKn",
        "outputId": "b3c8345e-6f96-477a-fbfb-9771ad765b38"
      },
      "execution_count": 18,
      "outputs": [
        {
          "output_type": "execute_result",
          "data": {
            "text/plain": [
              "'Batwowowowowowowoman'"
            ],
            "application/vnd.google.colaboratory.intrinsic+json": {
              "type": "string"
            }
          },
          "metadata": {},
          "execution_count": 18
        }
      ]
    },
    {
      "cell_type": "code",
      "source": [
        "mo1 = batRegex_5.search('The Advanture of Batman')\n",
        "mo1.group()"
      ],
      "metadata": {
        "colab": {
          "base_uri": "https://localhost:8080/",
          "height": 158
        },
        "id": "ejffSRPQuZKi",
        "outputId": "2f2b8101-5c43-49f7-faf6-81f24aa75b6d"
      },
      "execution_count": 20,
      "outputs": [
        {
          "output_type": "error",
          "ename": "AttributeError",
          "evalue": "'NoneType' object has no attribute 'group'",
          "traceback": [
            "\u001b[0;31m---------------------------------------------------------------------------\u001b[0m",
            "\u001b[0;31mAttributeError\u001b[0m                            Traceback (most recent call last)",
            "\u001b[0;32m<ipython-input-20-b08760b0bbff>\u001b[0m in \u001b[0;36m<cell line: 2>\u001b[0;34m()\u001b[0m\n\u001b[1;32m      1\u001b[0m \u001b[0mmo1\u001b[0m \u001b[0;34m=\u001b[0m \u001b[0mbatRegex_5\u001b[0m\u001b[0;34m.\u001b[0m\u001b[0msearch\u001b[0m\u001b[0;34m(\u001b[0m\u001b[0;34m'The Advanture of Batman'\u001b[0m\u001b[0;34m)\u001b[0m\u001b[0;34m\u001b[0m\u001b[0;34m\u001b[0m\u001b[0m\n\u001b[0;32m----> 2\u001b[0;31m \u001b[0mmo1\u001b[0m\u001b[0;34m.\u001b[0m\u001b[0mgroup\u001b[0m\u001b[0;34m(\u001b[0m\u001b[0;34m)\u001b[0m\u001b[0;34m\u001b[0m\u001b[0;34m\u001b[0m\u001b[0m\n\u001b[0m",
            "\u001b[0;31mAttributeError\u001b[0m: 'NoneType' object has no attribute 'group'"
          ]
        }
      ]
    },
    {
      "cell_type": "code",
      "source": [
        "haRegex = re.compile(r'(Ha){3}')\n",
        "mo = haRegex.search('HaHaHa')\n",
        "mo.group()"
      ],
      "metadata": {
        "colab": {
          "base_uri": "https://localhost:8080/",
          "height": 36
        },
        "id": "Zgqt-RLgumos",
        "outputId": "2d5b07b2-97d9-4181-9094-67ce0eec2f0d"
      },
      "execution_count": 21,
      "outputs": [
        {
          "output_type": "execute_result",
          "data": {
            "text/plain": [
              "'HaHaHa'"
            ],
            "application/vnd.google.colaboratory.intrinsic+json": {
              "type": "string"
            }
          },
          "metadata": {},
          "execution_count": 21
        }
      ]
    },
    {
      "cell_type": "code",
      "source": [
        "hregex = re.compile(r'(Ha){3,5}')\n",
        "mo = hregex.search('HaHaHaHaHa')\n",
        "mo.group()"
      ],
      "metadata": {
        "colab": {
          "base_uri": "https://localhost:8080/",
          "height": 36
        },
        "id": "-2HDWU2ZvIYu",
        "outputId": "6543ba5c-22eb-4be7-d5a3-49cc70c8504d"
      },
      "execution_count": 22,
      "outputs": [
        {
          "output_type": "execute_result",
          "data": {
            "text/plain": [
              "'HaHaHaHaHa'"
            ],
            "application/vnd.google.colaboratory.intrinsic+json": {
              "type": "string"
            }
          },
          "metadata": {},
          "execution_count": 22
        }
      ]
    },
    {
      "cell_type": "code",
      "source": [
        "vowelRegex = re.compile(r'[aeiouAEIOU]')\n",
        "vowelRegex.findall('RoboCap eats baby food. BABY FOOD')"
      ],
      "metadata": {
        "colab": {
          "base_uri": "https://localhost:8080/"
        },
        "id": "QCVPZvxiwI3D",
        "outputId": "6e02ebba-5a85-4b94-ea79-f6ae189eb2a3"
      },
      "execution_count": 23,
      "outputs": [
        {
          "output_type": "execute_result",
          "data": {
            "text/plain": [
              "['o', 'o', 'a', 'e', 'a', 'a', 'o', 'o', 'A', 'O', 'O']"
            ]
          },
          "metadata": {},
          "execution_count": 23
        }
      ]
    },
    {
      "cell_type": "code",
      "source": [
        "atRegex = re.compile(r'.at')\n",
        "atRegex.findall('The cat in the hat sat on the flat mat')"
      ],
      "metadata": {
        "colab": {
          "base_uri": "https://localhost:8080/"
        },
        "id": "10AgHov4xOAD",
        "outputId": "3a1e77d3-7ceb-42f8-d615-27bf172cfcb5"
      },
      "execution_count": 24,
      "outputs": [
        {
          "output_type": "execute_result",
          "data": {
            "text/plain": [
              "['cat', 'hat', 'sat', 'lat', 'mat']"
            ]
          },
          "metadata": {},
          "execution_count": 24
        }
      ]
    }
  ]
}