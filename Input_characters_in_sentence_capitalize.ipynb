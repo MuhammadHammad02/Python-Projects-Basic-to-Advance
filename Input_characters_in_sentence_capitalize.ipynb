{
  "nbformat": 4,
  "nbformat_minor": 0,
  "metadata": {
    "colab": {
      "provenance": [],
      "authorship_tag": "ABX9TyNF0wkvdf3f7Aaph6w+P0G+",
      "include_colab_link": true
    },
    "kernelspec": {
      "name": "python3",
      "display_name": "Python 3"
    },
    "language_info": {
      "name": "python"
    }
  },
  "cells": [
    {
      "cell_type": "markdown",
      "metadata": {
        "id": "view-in-github",
        "colab_type": "text"
      },
      "source": [
        "<a href=\"https://colab.research.google.com/github/MuhammadHammad02/Python-Projects-Basic-to-Advance/blob/main/Input_characters_in_sentence_capitalize.ipynb\" target=\"_parent\"><img src=\"https://colab.research.google.com/assets/colab-badge.svg\" alt=\"Open In Colab\"/></a>"
      ]
    },
    {
      "cell_type": "code",
      "execution_count": null,
      "metadata": {
        "id": "913avasPlb5x"
      },
      "outputs": [],
      "source": []
    },
    {
      "cell_type": "markdown",
      "source": [
        "Write a program that accepts sequence of lines as input and prints the lines after making all characters in the sentence capitalized.\n",
        "Suppose the following input is supplied to the program:\n",
        "Hello world\n",
        "Practice makes perfect\n",
        "Then, the output should be:\n",
        "HELLO WORLD\n",
        "PRACTICE MAKES PERFECT\n"
      ],
      "metadata": {
        "id": "pwWtx7_0mReX"
      }
    },
    {
      "cell_type": "code",
      "source": [
        "lines = []\n",
        "while True:\n",
        "  s = input()\n",
        "\n",
        "  if s:\n",
        "\n",
        "    lines.append(s.upper())\n",
        "\n",
        "\n",
        "  else:\n",
        "\n",
        "    break;\n",
        "\n",
        "  for line in lines:\n",
        "\n",
        "    print(line)"
      ],
      "metadata": {
        "colab": {
          "base_uri": "https://localhost:8080/"
        },
        "id": "uuW9H3aJmXR-",
        "outputId": "11a919ea-aab8-4492-9ad3-cb34610c722a"
      },
      "execution_count": 14,
      "outputs": [
        {
          "name": "stdout",
          "output_type": "stream",
          "text": [
            "Hello world Practice makes perfect\n",
            "HELLO WORLD PRACTICE MAKES PERFECT\n",
            "\n"
          ]
        }
      ]
    }
  ]
}