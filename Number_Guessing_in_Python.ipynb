{
  "nbformat": 4,
  "nbformat_minor": 0,
  "metadata": {
    "colab": {
      "provenance": [],
      "authorship_tag": "ABX9TyMURWGEPjzHPe3DWXQlMQqA",
      "include_colab_link": true
    },
    "kernelspec": {
      "name": "python3",
      "display_name": "Python 3"
    },
    "language_info": {
      "name": "python"
    }
  },
  "cells": [
    {
      "cell_type": "markdown",
      "metadata": {
        "id": "view-in-github",
        "colab_type": "text"
      },
      "source": [
        "<a href=\"https://colab.research.google.com/github/MuhammadHammad02/Python-Projects-Basic-to-Advance/blob/main/Number_Guessing_in_Python.ipynb\" target=\"_parent\"><img src=\"https://colab.research.google.com/assets/colab-badge.svg\" alt=\"Open In Colab\"/></a>"
      ]
    },
    {
      "cell_type": "code",
      "source": [
        "import random\n",
        "number = random.randint(1,10)\n",
        "\n",
        "\n",
        "\n",
        "user_n= input(\"Please enter your name\")\n",
        "\n",
        "print(f\"Hello,{user_n} please enter number 1 to 10 and you have 3 chances\")\n",
        "\n",
        "number_guessing =0\n",
        "\n",
        "while number_guessing< 3:\n",
        "  guess = int(input())\n",
        "\n",
        "  number_guessing += 1\n",
        "\n",
        "  if guess < number:\n",
        "    print(\"Your number is too low\")\n",
        "\n",
        "  elif guess > number:\n",
        "    print(\"Your number is too high\")\n",
        "\n",
        "  elif guess == number:\n",
        "    break\n",
        "\n",
        "if guess == number:\n",
        "  print(f\"Congratulation {user_n} you win {guess} is correct\")\n",
        "\n",
        "else:\n",
        "  print(f\"{user_n},Try again  have lost your all three chances\")\n",
        "\n"
      ],
      "metadata": {
        "colab": {
          "base_uri": "https://localhost:8080/"
        },
        "id": "5OPNdx9bGEXQ",
        "outputId": "c11a4089-8920-463c-b4cc-4f23c1452c20"
      },
      "execution_count": 2,
      "outputs": [
        {
          "output_type": "stream",
          "name": "stdout",
          "text": [
            "Please enter your namehammad\n",
            "Hello,hammad please enter number 1 to 10 and you have 3 chances\n",
            "2\n",
            "Your number is too low\n",
            "8\n",
            "Your number is too high\n",
            "6\n",
            "Your number is too high\n",
            "hammad,Try again  have lost your all three chances\n"
          ]
        }
      ]
    },
    {
      "cell_type": "code",
      "source": [],
      "metadata": {
        "id": "DPSn40juULsB"
      },
      "execution_count": null,
      "outputs": []
    },
    {
      "cell_type": "code",
      "source": [],
      "metadata": {
        "id": "i-S_GitXUMYp"
      },
      "execution_count": null,
      "outputs": []
    },
    {
      "cell_type": "code",
      "source": [],
      "metadata": {
        "id": "UIBovmXVP9eE"
      },
      "execution_count": null,
      "outputs": []
    }
  ]
}